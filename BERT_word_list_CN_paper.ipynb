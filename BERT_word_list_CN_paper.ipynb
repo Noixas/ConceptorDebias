{
  "nbformat": 4,
  "nbformat_minor": 0,
  "metadata": {
    "colab": {
      "name": "BERT_word_list_CN.ipynb",
      "version": "0.3.2",
      "provenance": [],
      "include_colab_link": true
    },
    "language_info": {
      "codemirror_mode": {
        "name": "ipython",
        "version": 3
      },
      "file_extension": ".py",
      "mimetype": "text/x-python",
      "name": "python",
      "nbconvert_exporter": "python",
      "pygments_lexer": "ipython3",
      "version": "3.6.4"
    },
    "kernelspec": {
      "display_name": "Python 3",
      "language": "python",
      "name": "python3"
    },
    "accelerator": "GPU"
  },
  "cells": [
    {
      "cell_type": "markdown",
      "metadata": {
        "id": "view-in-github",
        "colab_type": "text"
      },
      "source": [
        "<a href=\"https://colab.research.google.com/github/jsedoc/ConceptorDebias/blob/master/BERT_word_list_CN_paper.ipynb\" target=\"_parent\"><img src=\"https://colab.research.google.com/assets/colab-badge.svg\" alt=\"Open In Colab\"/></a>"
      ]
    },
    {
      "cell_type": "markdown",
      "metadata": {
        "colab_type": "text",
        "id": "C5UBFar7so29"
      },
      "source": [
        "# Setup BERT"
      ]
    },
    {
      "cell_type": "code",
      "metadata": {
        "colab_type": "code",
        "id": "GbLgfNRusWBt",
        "outputId": "1dea4e70-f592-4b6e-de1e-bfa619b533ab",
        "colab": {
          "base_uri": "https://localhost:8080/",
          "height": 1000
        }
      },
      "source": [
        "!pip install flair"
      ],
      "execution_count": 1,
      "outputs": [
        {
          "output_type": "stream",
          "text": [
            "Collecting flair\n",
            "\u001b[?25l  Downloading https://files.pythonhosted.org/packages/4e/3a/2e777f65a71c1eaa259df44c44e39d7071ba8c7780a1564316a38bf86449/flair-0.4.2-py3-none-any.whl (136kB)\n",
            "\u001b[K     |████████████████████████████████| 143kB 4.9MB/s \n",
            "\u001b[?25hCollecting sqlitedict>=1.6.0 (from flair)\n",
            "  Downloading https://files.pythonhosted.org/packages/0f/1c/c757b93147a219cf1e25cef7e1ad9b595b7f802159493c45ce116521caff/sqlitedict-1.6.0.tar.gz\n",
            "Requirement already satisfied: pytest>=3.6.4 in /usr/local/lib/python3.6/dist-packages (from flair) (3.6.4)\n",
            "Collecting pytorch-pretrained-bert>=0.6.1 (from flair)\n",
            "\u001b[?25l  Downloading https://files.pythonhosted.org/packages/d7/e0/c08d5553b89973d9a240605b9c12404bcf8227590de62bae27acbcfe076b/pytorch_pretrained_bert-0.6.2-py3-none-any.whl (123kB)\n",
            "\u001b[K     |████████████████████████████████| 133kB 38.5MB/s \n",
            "\u001b[?25hRequirement already satisfied: torch>=1.0.0 in /usr/local/lib/python3.6/dist-packages (from flair) (1.1.0)\n",
            "Collecting mpld3==0.3 (from flair)\n",
            "\u001b[?25l  Downloading https://files.pythonhosted.org/packages/91/95/a52d3a83d0a29ba0d6898f6727e9858fe7a43f6c2ce81a5fe7e05f0f4912/mpld3-0.3.tar.gz (788kB)\n",
            "\u001b[K     |████████████████████████████████| 798kB 52.3MB/s \n",
            "\u001b[?25hCollecting segtok>=1.5.7 (from flair)\n",
            "  Downloading https://files.pythonhosted.org/packages/1d/59/6ed78856ab99d2da04084b59e7da797972baa0efecb71546b16d48e49d9b/segtok-1.5.7.tar.gz\n",
            "Requirement already satisfied: hyperopt>=0.1.1 in /usr/local/lib/python3.6/dist-packages (from flair) (0.1.2)\n",
            "Requirement already satisfied: tqdm>=4.26.0 in /usr/local/lib/python3.6/dist-packages (from flair) (4.28.1)\n",
            "Collecting deprecated>=1.2.4 (from flair)\n",
            "  Downloading https://files.pythonhosted.org/packages/88/0e/9d5a1a8cd7130c49334cce7b8167ceda63d6a329c8ea65b626116bc9e9e6/Deprecated-1.2.6-py2.py3-none-any.whl\n",
            "Collecting bpemb>=0.2.9 (from flair)\n",
            "  Downloading https://files.pythonhosted.org/packages/bc/70/468a9652095b370f797ed37ff77e742b11565c6fd79eaeca5f2e50b164a7/bpemb-0.3.0-py3-none-any.whl\n",
            "Collecting regex (from flair)\n",
            "\u001b[?25l  Downloading https://files.pythonhosted.org/packages/6f/4e/1b178c38c9a1a184288f72065a65ca01f3154df43c6ad898624149b8b4e0/regex-2019.06.08.tar.gz (651kB)\n",
            "\u001b[K     |████████████████████████████████| 655kB 45.9MB/s \n",
            "\u001b[?25hRequirement already satisfied: sklearn in /usr/local/lib/python3.6/dist-packages (from flair) (0.0)\n",
            "Requirement already satisfied: urllib3<1.25,>=1.20 in /usr/local/lib/python3.6/dist-packages (from flair) (1.24.3)\n",
            "Requirement already satisfied: gensim>=3.4.0 in /usr/local/lib/python3.6/dist-packages (from flair) (3.6.0)\n",
            "Requirement already satisfied: matplotlib>=2.2.3 in /usr/local/lib/python3.6/dist-packages (from flair) (3.0.3)\n",
            "Requirement already satisfied: tabulate in /usr/local/lib/python3.6/dist-packages (from flair) (0.8.3)\n",
            "Requirement already satisfied: attrs>=17.4.0 in /usr/local/lib/python3.6/dist-packages (from pytest>=3.6.4->flair) (19.1.0)\n",
            "Requirement already satisfied: setuptools in /usr/local/lib/python3.6/dist-packages (from pytest>=3.6.4->flair) (41.0.1)\n",
            "Requirement already satisfied: six>=1.10.0 in /usr/local/lib/python3.6/dist-packages (from pytest>=3.6.4->flair) (1.12.0)\n",
            "Requirement already satisfied: py>=1.5.0 in /usr/local/lib/python3.6/dist-packages (from pytest>=3.6.4->flair) (1.8.0)\n",
            "Requirement already satisfied: atomicwrites>=1.0 in /usr/local/lib/python3.6/dist-packages (from pytest>=3.6.4->flair) (1.3.0)\n",
            "Requirement already satisfied: more-itertools>=4.0.0 in /usr/local/lib/python3.6/dist-packages (from pytest>=3.6.4->flair) (7.1.0)\n",
            "Requirement already satisfied: pluggy<0.8,>=0.5 in /usr/local/lib/python3.6/dist-packages (from pytest>=3.6.4->flair) (0.7.1)\n",
            "Requirement already satisfied: requests in /usr/local/lib/python3.6/dist-packages (from pytorch-pretrained-bert>=0.6.1->flair) (2.21.0)\n",
            "Requirement already satisfied: numpy in /usr/local/lib/python3.6/dist-packages (from pytorch-pretrained-bert>=0.6.1->flair) (1.16.4)\n",
            "Requirement already satisfied: boto3 in /usr/local/lib/python3.6/dist-packages (from pytorch-pretrained-bert>=0.6.1->flair) (1.9.189)\n",
            "Requirement already satisfied: future in /usr/local/lib/python3.6/dist-packages (from hyperopt>=0.1.1->flair) (0.16.0)\n",
            "Requirement already satisfied: networkx in /usr/local/lib/python3.6/dist-packages (from hyperopt>=0.1.1->flair) (2.3)\n",
            "Requirement already satisfied: pymongo in /usr/local/lib/python3.6/dist-packages (from hyperopt>=0.1.1->flair) (3.8.0)\n",
            "Requirement already satisfied: scipy in /usr/local/lib/python3.6/dist-packages (from hyperopt>=0.1.1->flair) (1.3.0)\n",
            "Requirement already satisfied: wrapt<2,>=1.10 in /usr/local/lib/python3.6/dist-packages (from deprecated>=1.2.4->flair) (1.11.2)\n",
            "Collecting sentencepiece (from bpemb>=0.2.9->flair)\n",
            "\u001b[?25l  Downloading https://files.pythonhosted.org/packages/00/95/7f357995d5eb1131aa2092096dca14a6fc1b1d2860bd99c22a612e1d1019/sentencepiece-0.1.82-cp36-cp36m-manylinux1_x86_64.whl (1.0MB)\n",
            "\u001b[K     |████████████████████████████████| 1.0MB 36.2MB/s \n",
            "\u001b[?25hRequirement already satisfied: scikit-learn in /usr/local/lib/python3.6/dist-packages (from sklearn->flair) (0.21.2)\n",
            "Requirement already satisfied: smart-open>=1.2.1 in /usr/local/lib/python3.6/dist-packages (from gensim>=3.4.0->flair) (1.8.4)\n",
            "Requirement already satisfied: python-dateutil>=2.1 in /usr/local/lib/python3.6/dist-packages (from matplotlib>=2.2.3->flair) (2.5.3)\n",
            "Requirement already satisfied: pyparsing!=2.0.4,!=2.1.2,!=2.1.6,>=2.0.1 in /usr/local/lib/python3.6/dist-packages (from matplotlib>=2.2.3->flair) (2.4.0)\n",
            "Requirement already satisfied: kiwisolver>=1.0.1 in /usr/local/lib/python3.6/dist-packages (from matplotlib>=2.2.3->flair) (1.1.0)\n",
            "Requirement already satisfied: cycler>=0.10 in /usr/local/lib/python3.6/dist-packages (from matplotlib>=2.2.3->flair) (0.10.0)\n",
            "Requirement already satisfied: chardet<3.1.0,>=3.0.2 in /usr/local/lib/python3.6/dist-packages (from requests->pytorch-pretrained-bert>=0.6.1->flair) (3.0.4)\n",
            "Requirement already satisfied: idna<2.9,>=2.5 in /usr/local/lib/python3.6/dist-packages (from requests->pytorch-pretrained-bert>=0.6.1->flair) (2.8)\n",
            "Requirement already satisfied: certifi>=2017.4.17 in /usr/local/lib/python3.6/dist-packages (from requests->pytorch-pretrained-bert>=0.6.1->flair) (2019.6.16)\n",
            "Requirement already satisfied: s3transfer<0.3.0,>=0.2.0 in /usr/local/lib/python3.6/dist-packages (from boto3->pytorch-pretrained-bert>=0.6.1->flair) (0.2.1)\n",
            "Requirement already satisfied: jmespath<1.0.0,>=0.7.1 in /usr/local/lib/python3.6/dist-packages (from boto3->pytorch-pretrained-bert>=0.6.1->flair) (0.9.4)\n",
            "Requirement already satisfied: botocore<1.13.0,>=1.12.189 in /usr/local/lib/python3.6/dist-packages (from boto3->pytorch-pretrained-bert>=0.6.1->flair) (1.12.189)\n",
            "Requirement already satisfied: decorator>=4.3.0 in /usr/local/lib/python3.6/dist-packages (from networkx->hyperopt>=0.1.1->flair) (4.4.0)\n",
            "Requirement already satisfied: joblib>=0.11 in /usr/local/lib/python3.6/dist-packages (from scikit-learn->sklearn->flair) (0.13.2)\n",
            "Requirement already satisfied: boto>=2.32 in /usr/local/lib/python3.6/dist-packages (from smart-open>=1.2.1->gensim>=3.4.0->flair) (2.49.0)\n",
            "Requirement already satisfied: docutils>=0.10 in /usr/local/lib/python3.6/dist-packages (from botocore<1.13.0,>=1.12.189->boto3->pytorch-pretrained-bert>=0.6.1->flair) (0.14)\n",
            "Building wheels for collected packages: sqlitedict, mpld3, segtok, regex\n",
            "  Building wheel for sqlitedict (setup.py) ... \u001b[?25l\u001b[?25hdone\n",
            "  Stored in directory: /root/.cache/pip/wheels/bd/57/d3/907c3ee02d35e66f674ad0106e61f06eeeb98f6ee66a6cc3fe\n",
            "  Building wheel for mpld3 (setup.py) ... \u001b[?25l\u001b[?25hdone\n",
            "  Stored in directory: /root/.cache/pip/wheels/c0/47/fb/8a64f89aecfe0059830479308ad42d62e898a3e3cefdf6ba28\n",
            "  Building wheel for segtok (setup.py) ... \u001b[?25l\u001b[?25hdone\n",
            "  Stored in directory: /root/.cache/pip/wheels/15/ee/a8/6112173f1386d33eebedb3f73429cfa41a4c3084556bcee254\n",
            "  Building wheel for regex (setup.py) ... \u001b[?25l\u001b[?25hdone\n",
            "  Stored in directory: /root/.cache/pip/wheels/35/e4/80/abf3b33ba89cf65cd262af8a22a5a999cc28fbfabea6b38473\n",
            "Successfully built sqlitedict mpld3 segtok regex\n",
            "Installing collected packages: sqlitedict, regex, pytorch-pretrained-bert, mpld3, segtok, deprecated, sentencepiece, bpemb, flair\n",
            "Successfully installed bpemb-0.3.0 deprecated-1.2.6 flair-0.4.2 mpld3-0.3 pytorch-pretrained-bert-0.6.2 regex-2019.6.8 segtok-1.5.7 sentencepiece-0.1.82 sqlitedict-1.6.0\n"
          ],
          "name": "stdout"
        }
      ]
    },
    {
      "cell_type": "code",
      "metadata": {
        "colab_type": "code",
        "id": "sAxGdPUKsZB5",
        "outputId": "3fe861ac-0d68-4388-f686-48a4c4eb8531",
        "colab": {
          "base_uri": "https://localhost:8080/",
          "height": 52
        }
      },
      "source": [
        "from flair.embeddings import BertEmbeddings\n",
        "from flair.data import Sentence\n",
        "\n",
        "\n",
        "# init embedding\n",
        "embedding = BertEmbeddings('bert-large-cased', layers=\"20,21,22,23\")"
      ],
      "execution_count": 2,
      "outputs": [
        {
          "output_type": "stream",
          "text": [
            "100%|██████████| 231508/231508 [00:00<00:00, 1248277.29B/s]\n",
            "100%|██████████| 1248501532/1248501532 [00:32<00:00, 38509080.81B/s]\n"
          ],
          "name": "stderr"
        }
      ]
    },
    {
      "cell_type": "code",
      "metadata": {
        "colab_type": "code",
        "id": "-lJ5H2KrsL9f",
        "colab": {}
      },
      "source": [
        "import numpy as np\n",
        "import torch\n",
        "t = np.transpose\n",
        "import matplotlib.pyplot as plt\n",
        "%matplotlib inline"
      ],
      "execution_count": 0,
      "outputs": []
    },
    {
      "cell_type": "markdown",
      "metadata": {
        "colab_type": "text",
        "id": "j91LrkyBsu-R"
      },
      "source": [
        "# Get Brown Corpus"
      ]
    },
    {
      "cell_type": "code",
      "metadata": {
        "colab_type": "code",
        "id": "5GVVfJkDs0fh",
        "outputId": "ca7034f3-a549-441d-8138-2592b142c1e6",
        "colab": {
          "base_uri": "https://localhost:8080/",
          "height": 52
        }
      },
      "source": [
        "from tqdm import tqdm\n",
        "\n",
        "import nltk\n",
        "nltk.download('brown')\n",
        "\n",
        "from nltk.corpus import brown\n",
        "brown_corpus = brown.sents()[:20000]"
      ],
      "execution_count": 4,
      "outputs": [
        {
          "output_type": "stream",
          "text": [
            "[nltk_data] Downloading package brown to /root/nltk_data...\n",
            "[nltk_data]   Unzipping corpora/brown.zip.\n"
          ],
          "name": "stdout"
        }
      ]
    },
    {
      "cell_type": "code",
      "metadata": {
        "colab_type": "code",
        "id": "Uo4Qu3fntX5f",
        "outputId": "145b6484-1bbe-4dd9-f9aa-551885bfbf3a",
        "colab": {
          "base_uri": "https://localhost:8080/",
          "height": 34
        }
      },
      "source": [
        "brown_e = []\n",
        "for s in tqdm(brown_corpus):\n",
        "    sentence = Sentence(' '.join(s))\n",
        "    embedding.embed(sentence)\n",
        "    sent_emb = torch.stack([token.embedding for token in sentence]).numpy()\n",
        "    brown_e.append(sent_emb)"
      ],
      "execution_count": 0,
      "outputs": [
        {
          "output_type": "stream",
          "text": [
            "  7%|▋         | 1499/20000 [01:18<14:03, 21.94it/s]"
          ],
          "name": "stderr"
        }
      ]
    },
    {
      "cell_type": "code",
      "metadata": {
        "colab_type": "code",
        "id": "Ml280Y7Qkah8",
        "colab": {}
      },
      "source": [
        "import numpy as np\n",
        "t = np.transpose\n",
        "import matplotlib.pyplot as plt\n",
        "%matplotlib inline"
      ],
      "execution_count": 0,
      "outputs": []
    },
    {
      "cell_type": "code",
      "metadata": {
        "colab_type": "code",
        "id": "mghOzcVXklz3",
        "colab": {}
      },
      "source": [
        "import matplotlib as mpl\n",
        "from mpl_toolkits.mplot3d import Axes3D\n",
        "import numpy as np\n",
        "import matplotlib.cm as cm\n",
        "import matplotlib.pyplot as plt\n",
        "import pandas as pd\n",
        "from   sklearn.decomposition import PCA\n",
        "from   sklearn.manifold import TSNE, Isomap, LocallyLinearEmbedding, MDS, SpectralEmbedding\n",
        "from   sklearn.preprocessing import StandardScaler\n",
        "\n",
        "np.set_printoptions(suppress=True)\n",
        "np.set_printoptions(precision=4)\n",
        "plt_style = 'seaborn-talk'\n",
        "import seaborn as sns; sns.set()\n",
        "\n",
        "# Experimental: HDBScan is a state-of-the-art clustering algorithm\n",
        "hdbscan_available = True\n",
        "try:\n",
        "    import hdbscan\n",
        "except ImportError:\n",
        "    hdbscan_available = False"
      ],
      "execution_count": 0,
      "outputs": []
    },
    {
      "cell_type": "code",
      "metadata": {
        "colab_type": "code",
        "id": "GXRIbtOmksRo",
        "colab": {}
      },
      "source": [
        "def do_plot(X_fit, title=None, labels=['']):\n",
        "    dimension = X_fit.shape[1]\n",
        "    label_types = sorted(list(set(labels)))\n",
        "    num_labels = len(label_types)\n",
        "    colors = cm.Accent(np.linspace(0, 1, num_labels))\n",
        "    print(X_fit.shape, label_types, num_labels, colors)\n",
        "    with plt.style.context(plt_style):\n",
        "        fig = plt.figure()\n",
        "        \n",
        "        if dimension == 2:\n",
        "            ax = fig.add_subplot(111)\n",
        "            for lab, col in zip(label_types, colors):\n",
        "                if num_labels>1:\n",
        "                    idxs = [i for i,v in enumerate(labels) if v == lab]\n",
        "                    import pdb; pdb.set_trace()\n",
        "                    df = pd.DataFrame([[X_fit[i, 0] for i in idxs], [X_fit[i, 1] for i in idxs], [lab for i in idxs]], columns=['X','Y','label'])\n",
        "                    if tdf != None:\n",
        "                        tdf.append(df)\n",
        "                    else:\n",
        "                        tdf = df\n",
        "                    #mt = [j for i,v in enumerate(labels) if v == lab]\n",
        "                    #markers = {\"Mary\": \"s\", \"John\": \"X\"}\n",
        "                    #ax = sns.scatterplot([X_fit[i, 0] for i in idxs],\n",
        "                    #           [X_fit[i, 1] for i in idxs],\n",
        "                    #           c=col, label=lab, style=pd.Series(col))\n",
        "                else:\n",
        "                    ax.scatter(X_fit[:, 0],\n",
        "                               X_fit[:, 1],\n",
        "                               c=col)\n",
        "        elif dimension == 3:\n",
        "            ax = fig.add_subplot(111, projection='3d')\n",
        "            for lab, col in zip(label_types, colors):\n",
        "                ax.scatter(X_fit[labels==lab, 0],\n",
        "                           X_fit[labels==lab, 1],\n",
        "                           X_fit[labels==lab, 2],\n",
        "                           c=col)\n",
        "        else:\n",
        "            raise Exception('Unknown dimension: %d' % dimension)\n",
        "        ax = sns.scatterplot(tdf.X,tdf.Y, hue=tdf.label, style=tdf.label)\n",
        "        plt.title(title)\n",
        "        if num_labels>1:\n",
        "            ax.legend()\n",
        "        plt.show()\n",
        "        return tdf"
      ],
      "execution_count": 0,
      "outputs": []
    },
    {
      "cell_type": "code",
      "metadata": {
        "id": "hBtX7HE8JGKp",
        "colab_type": "code",
        "colab": {}
      },
      "source": [
        "def create_df(X_fit, labels):\n",
        "    tdf =''\n",
        "    label_types = sorted(list(set(labels)))\n",
        "    print(label_types)\n",
        "    for lab in label_types:\n",
        "        idxs = [i for i,v in enumerate(labels) if v == lab]\n",
        "        Z = [[X_fit[i, 0] for i in idxs], [X_fit[i, 1] for i in idxs], [lab for i in idxs]]\n",
        "        df = pd.DataFrame(np.array(Z).T, columns=['PC1','PC2','word'])\n",
        "        if type(tdf) != type(''):\n",
        "            tdf = tdf.append(df)\n",
        "        else:\n",
        "            tdf = df\n",
        "    return tdf"
      ],
      "execution_count": 0,
      "outputs": []
    },
    {
      "cell_type": "markdown",
      "metadata": {
        "id": "90yn5fONJvEv",
        "colab_type": "text"
      },
      "source": [
        "# New Section"
      ]
    },
    {
      "cell_type": "code",
      "metadata": {
        "id": "jWID015cJwGa",
        "colab_type": "code",
        "outputId": "4524f970-737f-4e2f-beaf-aa3f01725152",
        "colab": {
          "base_uri": "https://localhost:8080/",
          "height": 34
        }
      },
      "source": [
        "X, labels, _ = pick_embeddings(brown_corpus, brown_embs, ['he','she'])\n",
        "pca = PCA(n_components=2)\n",
        "pca.fit(X)\n",
        "X, labels, _ = pick_embeddings(brown_corpus, brown_embs, ['executive','relatives','wedding','salary'])\n",
        "df = create_df(pca.transform(X), labels=labels)\n"
      ],
      "execution_count": 0,
      "outputs": [
        {
          "output_type": "stream",
          "text": [
            "['executive', 'relatives', 'salary', 'wedding']\n"
          ],
          "name": "stdout"
        }
      ]
    },
    {
      "cell_type": "code",
      "metadata": {
        "id": "syfGRK5aLNm4",
        "colab_type": "code",
        "outputId": "e10e9096-b837-42ce-8fc7-dbe593658b89",
        "colab": {
          "base_uri": "https://localhost:8080/",
          "height": 472
        }
      },
      "source": [
        "with plt.style.context(plt_style):\n",
        "    fig = plt.figure()\n",
        "    ax = sns.scatterplot(x=df.PC1.astype('float64'), y=df.PC2.astype('float64'), hue=df.word, style=df.word)\n",
        "plt.show()"
      ],
      "execution_count": 0,
      "outputs": [
        {
          "output_type": "display_data",
          "data": {
            "image/png": "[encoded data removed]",
            "text/plain": [
              "<Figure size 748.8x514.8 with 1 Axes>"
            ]
          },
          "metadata": {
            "tags": []
          }
        }
      ]
    },
    {
      "cell_type": "code",
      "metadata": {
        "id": "E_7B1L_keYoi",
        "colab_type": "code",
        "outputId": "8f709483-fb33-45bd-de6f-2937050d13d5",
        "colab": {
          "base_uri": "https://localhost:8080/",
          "height": 596
        }
      },
      "source": [
        "AB, AB_labels, _ = pick_embeddings(brown_corpus, brown_embs, ['he', 'she'])\n",
        "XY, XY_labels, _ = pick_embeddings(brown_corpus, brown_embs, ['wedding', 'relatives','executive', 'salary'])#WEATLists.W_6_Career + WEATLists.W_6_Family)\n",
        "\n",
        "Z = np.matrix(AB)\n",
        "L = np.matrix(XY)\n",
        "GnegC, GnewX, GR = post_process_cn_matrix(Z.T)\n",
        "\n",
        "pca.fit(GnewX)\n",
        "df = create_df(pca.transform((GnegC*L.T).T), labels=labels)\n",
        "\n",
        "with plt.style.context(plt_style):\n",
        "    fig = plt.figure()\n",
        "    ax = sns.scatterplot(x=df.PC1.astype('float64'), y=df.PC2.astype('float64'), hue=df.word, style=df.word)\n",
        "plt.show()"
      ],
      "execution_count": 0,
      "outputs": [
        {
          "output_type": "stream",
          "text": [
            "starting...\n",
            "(4096, 2088)\n",
            "R calculated\n",
            "C calculated\n",
            "negC calculated\n",
            "(2088, 4096)\n",
            "['executive', 'relatives', 'salary', 'wedding']\n"
          ],
          "name": "stdout"
        },
        {
          "output_type": "display_data",
          "data": {
            "image/png": "[encoded data removed]",
            "text/plain": [
              "<Figure size 748.8x514.8 with 1 Axes>"
            ]
          },
          "metadata": {
            "tags": []
          }
        }
      ]
    },
    {
      "cell_type": "code",
      "metadata": {
        "colab_type": "code",
        "id": "2XB7QFvHkxWq",
        "colab": {}
      },
      "source": [
        "def pick_embeddings(corpus, sent_embs, word_list):\n",
        "    X = []\n",
        "    labels = []\n",
        "    sents = []\n",
        "    for i, s in enumerate(corpus):\n",
        "        for j, w in enumerate(s):\n",
        "            if w in word_list:\n",
        "                X.append(sent_embs[i][j])\n",
        "                labels.append(w)\n",
        "                sents.append(s)\n",
        "    return (X, labels, sents)"
      ],
      "execution_count": 0,
      "outputs": []
    },
    {
      "cell_type": "code",
      "metadata": {
        "colab_type": "code",
        "id": "4QGjzpJOlEni",
        "colab": {}
      },
      "source": [
        "#brown_corpus = brown_corpus[:20000]\n",
        "brown_embs = brown_e"
      ],
      "execution_count": 0,
      "outputs": []
    },
    {
      "cell_type": "code",
      "metadata": {
        "colab_type": "code",
        "id": "797rJIVxk1wH",
        "outputId": "d600a5ce-f820-4280-9b22-7de460accec8",
        "colab": {
          "base_uri": "https://localhost:8080/",
          "height": 8132
        }
      },
      "source": [
        "X, labels, _ = pick_embeddings(brown_corpus, brown_embs, ['husband', 'wife', 'Mary', 'John'])\n",
        "pca = PCA(n_components=2)\n",
        "pca.fit(X)\n",
        "do_plot(pca.transform(X), 'PCA', labels=labels)\n",
        "X, labels, _ = pick_embeddings(brown_corpus, brown_embs, ['man', 'woman'])\n",
        "do_plot(pca.transform(X), 'PCA', labels=labels)\n",
        "X, labels, _ = pick_embeddings(brown_corpus, brown_embs, ['himself', 'herself'])\n",
        "do_plot(pca.transform(X), 'PCA', labels=labels)\n",
        "X, labels, _ = pick_embeddings(brown_corpus, brown_embs, ['boy', 'girl'])\n",
        "do_plot(pca.transform(X), 'PCA', labels=labels)\n",
        "X, labels, _ = pick_embeddings(brown_corpus, brown_embs, ['Mary', 'John'])\n",
        "do_plot(pca.transform(X), 'PCA', labels=labels)\n",
        "X, labels, _ = pick_embeddings(brown_corpus, brown_embs, ['husband', 'wife'])\n",
        "do_plot(pca.transform(X), 'PCA', labels=labels)\n",
        "X, labels, _ = pick_embeddings(brown_corpus, brown_embs, ['David', 'Lauren', 'Robert', 'Bonnie'])\n",
        "do_plot(pca.transform(X), 'PCA', labels=labels)"
      ],
      "execution_count": 0,
      "outputs": [
        {
          "output_type": "stream",
          "text": [
            "(386, 2) ['John', 'Mary', 'husband', 'wife'] 4 [[0.498  0.7882 0.498  1.    ]\n",
            " [0.9922 0.7529 0.5255 1.    ]\n",
            " [0.9412 0.0078 0.498  1.    ]\n",
            " [0.4    0.4    0.4    1.    ]]\n",
            "> <ipython-input-62-653900a4aa6b>(16)do_plot()\n",
            "-> df = pd.DataFrame([[X_fit[i, 0] for i in idxs], [X_fit[i, 1] for i in idxs], [lab for i in idxs]], columns=['X','Y','label'])\n",
            "(Pdb) [X_fit[i, 0] for i in idxs]\n",
            "*** NameError: name 'X_fit' is not defined\n",
            "(Pdb) p X_fit\n",
            "array([[ 18.0313,  -3.7581],\n",
            "       [ 19.0955,   2.4399],\n",
            "       [-12.7979,  -8.5769],\n",
            "       [-14.6823,  -8.9644],\n",
            "       [-14.6619,  -5.271 ],\n",
            "       [ -7.3371,  -9.4487],\n",
            "       [-14.8061,  -8.9884],\n",
            "       [-16.2526, -12.9182],\n",
            "       [-12.9015,  -1.8052],\n",
            "       [-10.2424,  -6.0034],\n",
            "       [ 20.4701,  -0.9063],\n",
            "       [-14.2221,   0.204 ],\n",
            "       [-10.9482,  -6.4139],\n",
            "       [ 16.5498,  -2.6594],\n",
            "       [ -9.5294,  -2.578 ],\n",
            "       [-11.9551,  -4.6669],\n",
            "       [-12.3487,  -7.1036],\n",
            "       [ -4.516 ,  -4.5759],\n",
            "       [ -8.1343,  -3.3622],\n",
            "       [ 18.1088,  -1.195 ],\n",
            "       [ -7.6131,  -3.3196],\n",
            "       [ 18.0675,  -1.6446],\n",
            "       [-12.8327,  -8.0355],\n",
            "       [-12.8716,  -8.1181],\n",
            "       [ 11.8843,  -2.8036],\n",
            "       [ 13.8737,  -3.0561],\n",
            "       [ 16.8647,  -1.9168],\n",
            "       [ 15.6406,  -3.4625],\n",
            "       [ 16.1739,  -1.6466],\n",
            "       [-12.7845,  -6.9315],\n",
            "       [-13.1548,  -7.5738],\n",
            "       [-14.834 , -10.6302],\n",
            "       [-11.2769,  -1.9256],\n",
            "       [ -8.9878,  -3.7292],\n",
            "       [-16.2687,  -7.656 ],\n",
            "       [-17.8634, -11.0676],\n",
            "       [ 15.5496,  -1.7593],\n",
            "       [ 12.2788,  -3.7692],\n",
            "       [-15.8078,  -6.3938],\n",
            "       [ -8.184 ,  -9.5494],\n",
            "       [-17.7809, -11.6282],\n",
            "       [-16.6978, -11.0285],\n",
            "       [-14.6042,  -3.3223],\n",
            "       [-16.7055,  -8.3594],\n",
            "       [-16.4565, -10.4068],\n",
            "       [ -9.1915,  -3.798 ],\n",
            "       [-18.2668,  -9.7305],\n",
            "       [-13.3344,  -9.5565],\n",
            "       [-13.6886,  -4.1997],\n",
            "       [ 18.7158,  -1.9051],\n",
            "       [ 17.6247,  -2.8287],\n",
            "       [ 13.5723,  -0.5717],\n",
            "       [ 19.4328,  -0.6114],\n",
            "       [-14.875 , -10.7645],\n",
            "       [ -8.2094,  -6.4377],\n",
            "       [-13.2526,  -9.8063],\n",
            "       [ 19.1146,  -1.2882],\n",
            "       [ 17.5439,  -1.4988],\n",
            "       [-15.7804,  -4.0984],\n",
            "       [-12.0553,  -4.7147],\n",
            "       [-13.9113,  -7.6418],\n",
            "       [ 17.5342,   0.8591],\n",
            "       [ 19.3589,  -1.9483],\n",
            "       [ 18.1252,   0.055 ],\n",
            "       [ -7.7449,  -5.5366],\n",
            "       [ 16.1779,  -1.6252],\n",
            "       [ 14.6368,  -3.9582],\n",
            "       [ 13.2238,  -3.7729],\n",
            "       [-12.7023, -11.1153],\n",
            "       [-14.8487,  -5.2454],\n",
            "       [-11.6043,  -5.7246],\n",
            "       [-12.0646,  -5.9769],\n",
            "       [-11.1572,  -8.3106],\n",
            "       [-14.9696, -10.8035],\n",
            "       [-16.5001,  -6.1421],\n",
            "       [-18.4644,  -3.7953],\n",
            "       [-15.0457,  -6.4682],\n",
            "       [ 18.9922,  -1.9673],\n",
            "       [-14.4105,  -8.1337],\n",
            "       [ -4.5695,  -5.7811],\n",
            "       [-15.0791,  -7.8566],\n",
            "       [-11.3036,  -6.7072],\n",
            "       [ 18.604 ,   1.7101],\n",
            "       [ 15.4896,  -0.3646],\n",
            "       [ 19.0106,   1.5385],\n",
            "       [ 16.3645,   0.6988],\n",
            "       [ 13.5209,  -4.3196],\n",
            "       [  9.2441,   1.3542],\n",
            "       [ 17.8978,  -3.2794],\n",
            "       [ 19.4285,  -0.1132],\n",
            "       [ 17.2656,  -1.9592],\n",
            "       [ 16.4454,   0.1873],\n",
            "       [ 17.1482,  -0.5502],\n",
            "       [ 16.0873,  -0.9442],\n",
            "       [ 14.8076,  -0.9677],\n",
            "       [ -7.8998,  -4.9054],\n",
            "       [-13.9991,  -8.4741],\n",
            "       [-15.2525,  -5.5349],\n",
            "       [-16.2825,  -4.5441],\n",
            "       [-13.0311,  -8.7678],\n",
            "       [ 16.1368,  -1.3582],\n",
            "       [ 15.2463,  -1.9045],\n",
            "       [ 19.9924,  -0.6987],\n",
            "       [-16.4256,  -6.0456],\n",
            "       [ 12.5669,  -2.0096],\n",
            "       [-11.5109,  -6.7996],\n",
            "       [-14.2295,  -0.0812],\n",
            "       [ -3.8164,  -1.9302],\n",
            "       [-12.5669,   2.4752],\n",
            "       [ 18.2724,  -0.9265],\n",
            "       [ -3.4939,  -0.1523],\n",
            "       [ -5.179 ,   2.56  ],\n",
            "       [-12.4913,   1.0361],\n",
            "       [ -4.572 ,   0.6464],\n",
            "       [ 15.5807,  -0.392 ],\n",
            "       [-12.2845, -10.4884],\n",
            "       [-12.1129,  -9.2084],\n",
            "       [-11.0234,  -2.8456],\n",
            "       [-13.3542,  -5.2464],\n",
            "       [ 15.753 ,  -2.2512],\n",
            "       [-14.0889,  -5.5951],\n",
            "       [ 13.3895,  -4.4021],\n",
            "       [-10.9797,  -4.5159],\n",
            "       [-12.1403,  -4.5494],\n",
            "       [-10.6075,  -5.912 ],\n",
            "       [ 17.2594,  -2.1393],\n",
            "       [ -6.0251,  -5.0598],\n",
            "       [ -9.0635,  -0.4305],\n",
            "       [ -9.8319,  -5.6064],\n",
            "       [-14.1572, -11.2256],\n",
            "       [-13.1253,  -6.1908],\n",
            "       [ -5.4138,   2.512 ],\n",
            "       [ -3.7425,   0.9837],\n",
            "       [ -6.0812,   3.942 ],\n",
            "       [ -4.7066,   2.472 ],\n",
            "       [-15.0809, -11.1623],\n",
            "       [-10.1866,  -4.4288],\n",
            "       [-11.1866,  -7.2679],\n",
            "       [ -9.7824,  -3.7339],\n",
            "       [ 15.4782,  -4.241 ],\n",
            "       [-12.1162,  16.6007],\n",
            "       [-12.1258,  19.2493],\n",
            "       [-12.0845,  18.0188],\n",
            "       [-11.7898,   7.2449],\n",
            "       [-11.9337,   8.6496],\n",
            "       [ -9.6777,  -3.8698],\n",
            "       [-12.9631,  -4.5381],\n",
            "       [-12.362 ,  -4.6517],\n",
            "       [ 18.8802,   0.4704],\n",
            "       [ 16.6572,  -0.5047],\n",
            "       [ -9.7435,  -3.6273],\n",
            "       [-11.5857,  -1.4175],\n",
            "       [ 12.965 ,  -0.9826],\n",
            "       [ 12.9519,  -0.837 ],\n",
            "       [ 11.9896,  -0.6012],\n",
            "       [  8.3136,  -1.8423],\n",
            "       [-11.722 ,   5.3982],\n",
            "       [-13.5947,  -5.8409],\n",
            "       [-14.9082,  -8.3243],\n",
            "       [-14.7843,  17.5565],\n",
            "       [-14.8148,  15.7933],\n",
            "       [-14.0067,  14.0959],\n",
            "       [-11.0585,  -2.6502],\n",
            "       [-12.4257,  -6.3769],\n",
            "       [ 18.211 ,  -0.8585],\n",
            "       [ 17.8805,  -0.3242],\n",
            "       [ -9.3991,  -5.4081],\n",
            "       [ 15.6962,  -0.9494],\n",
            "       [ 13.6506,  -3.3672],\n",
            "       [-13.0104,  -4.4741],\n",
            "       [-10.3937,  -4.7995],\n",
            "       [-12.8866,  -5.1086],\n",
            "       [-11.4749,  -1.9622],\n",
            "       [ 17.7622,   0.7267],\n",
            "       [ 12.548 ,  -0.5572],\n",
            "       [-14.6306,  -0.2712],\n",
            "       [ 12.1271,  -1.2321],\n",
            "       [ 15.4713,   1.5384],\n",
            "       [-10.9599,  -4.5591],\n",
            "       [ 18.0546,   1.0572],\n",
            "       [-14.507 ,  -2.9017],\n",
            "       [-11.9911,  -4.8306],\n",
            "       [ 14.8433,   0.9386],\n",
            "       [ 15.9948,   0.6773],\n",
            "       [ 16.4551,  -1.0069],\n",
            "       [ 14.5122,   0.4708],\n",
            "       [ 14.7987,   0.5169],\n",
            "       [ 17.2587,   1.4997],\n",
            "       [-12.2736,  -5.3373],\n",
            "       [-11.5044,  -4.8923],\n",
            "       [ 17.8445,   0.7846],\n",
            "       [-14.8645, -10.4237],\n",
            "       [-11.7934,  -5.1807],\n",
            "       [-11.1194,   1.1887],\n",
            "       [ -4.6697,  -4.7158],\n",
            "       [-10.5441,  -7.0362],\n",
            "       [-15.0328,  -4.4427],\n",
            "       [ -8.6377,  -3.4574],\n",
            "       [ 16.2762,   1.6224],\n",
            "       [ 14.1469,   0.4079],\n",
            "       [-12.1475,  -2.3288],\n",
            "       [ -4.2101,  10.4989],\n",
            "       [ 15.4075,   0.7356],\n",
            "       [ -4.8671,  11.5012],\n",
            "       [ -2.6789,   8.8373],\n",
            "       [-12.826 ,  20.8684],\n",
            "       [-12.6591,  24.1708],\n",
            "       [ -2.6221,  10.1825],\n",
            "       [-12.0853,  24.2363],\n",
            "       [ 18.6358,   1.7309],\n",
            "       [-17.45  ,  -4.4667],\n",
            "       [-10.5045,  -5.0952],\n",
            "       [-13.567 ,  28.1876],\n",
            "       [-13.6732,  27.7744],\n",
            "       [-13.6998,  27.8725],\n",
            "       [-13.2199,  25.3441],\n",
            "       [-12.9052,  26.5104],\n",
            "       [-13.5196,  28.3129],\n",
            "       [-12.9639,  27.2187],\n",
            "       [-13.2455,  26.7241],\n",
            "       [-13.6377,  28.5375],\n",
            "       [-12.7614,  26.7272],\n",
            "       [-13.6822,  28.5174],\n",
            "       [-13.9334,  28.4626],\n",
            "       [-13.1103,  24.5549],\n",
            "       [-13.661 ,  26.3415],\n",
            "       [-13.5325,  23.9553],\n",
            "       [-13.4975,  28.3892],\n",
            "       [-12.5854,  25.65  ],\n",
            "       [-13.2199,  25.3441],\n",
            "       [-13.2854,  25.7473],\n",
            "       [-12.6656,  26.3665],\n",
            "       [-11.0867,  -3.1766],\n",
            "       [-12.4881,   0.31  ],\n",
            "       [ -9.7183,  -2.0367],\n",
            "       [-13.4546,  19.2821],\n",
            "       [-16.2914,  -6.8325],\n",
            "       [ 10.0237,  -1.05  ],\n",
            "       [ -3.9227,  -3.1473],\n",
            "       [ -6.1122,   0.3211],\n",
            "       [-10.5293,  -2.8738],\n",
            "       [-16.3015,  -7.7317],\n",
            "       [ -3.0923,  10.0575],\n",
            "       [-13.8608,  -6.2689],\n",
            "       [ -9.6847,  -0.0113],\n",
            "       [-14.0893,  -5.3578],\n",
            "       [ 15.2779,   1.0303],\n",
            "       [ 17.3633,  -0.2504],\n",
            "       [ 18.6569,   1.1002],\n",
            "       [-12.5791,  -6.1852],\n",
            "       [ 18.9848,  -2.4084],\n",
            "       [ 15.8198,  -1.3986],\n",
            "       [-12.1356,  -5.8426],\n",
            "       [ 12.5756,   0.6695],\n",
            "       [ 16.0023,  -1.1754],\n",
            "       [-13.183 ,  -3.7998],\n",
            "       [-13.2625,  -2.5819],\n",
            "       [ -9.3871,  -1.9175],\n",
            "       [-10.5166,  -0.4632],\n",
            "       [-11.1729,  -4.3606],\n",
            "       [-10.5554,  -1.451 ],\n",
            "       [-12.2659,  -3.777 ],\n",
            "       [-10.4202,  -2.1682],\n",
            "       [-11.7405,  -3.6779],\n",
            "       [ -9.609 ,  -4.0338],\n",
            "       [-15.732 , -11.1046],\n",
            "       [-12.1582,   3.1451],\n",
            "       [-11.5616,   1.3061],\n",
            "       [-11.9575,   2.6831],\n",
            "       [-10.9665,   3.1952],\n",
            "       [ 15.4542,   1.3891],\n",
            "       [ 13.0793,   1.7831],\n",
            "       [ 16.9083,   2.5782],\n",
            "       [ 13.3819,   2.1745],\n",
            "       [ 13.3825,   2.5109],\n",
            "       [ 16.7445,   2.8696],\n",
            "       [ 14.5626,   2.1458],\n",
            "       [ 17.4443,   2.481 ],\n",
            "       [ 12.5532,   1.1829],\n",
            "       [ 17.336 ,   2.107 ],\n",
            "       [ 17.002 ,   2.561 ],\n",
            "       [ 15.6117,   1.5752],\n",
            "       [ 15.1063,  -0.1524],\n",
            "       [ 12.8033,   2.7242],\n",
            "       [ 15.7077,   3.4617],\n",
            "       [ 15.5269,   1.4982],\n",
            "       [ 18.1999,   2.7473],\n",
            "       [ 17.8984,   2.4177],\n",
            "       [ 14.1176,   1.0865],\n",
            "       [ 16.3608,   2.395 ],\n",
            "       [ 15.2986,   2.4561],\n",
            "       [ 16.3492,   1.7808],\n",
            "       [ -7.7241,  -4.723 ],\n",
            "       [ 16.024 ,   1.4401],\n",
            "       [ 13.3814,   1.8787],\n",
            "       [ 18.1438,   0.5113],\n",
            "       [ 12.0429,   2.943 ],\n",
            "       [ 16.5337,   3.8047],\n",
            "       [ 15.5399,   3.1652],\n",
            "       [ 10.6776,   1.4848],\n",
            "       [ 17.3849,   0.3567],\n",
            "       [ 17.3284,  -0.6762],\n",
            "       [ 13.994 ,  -1.445 ],\n",
            "       [ 18.2777,  -0.9935],\n",
            "       [ 14.0667,  -0.2114],\n",
            "       [ 16.8949,   0.2935],\n",
            "       [ 16.2895,  -0.8042],\n",
            "       [ 14.2273,  -0.9125],\n",
            "       [ 19.3331,   1.7312],\n",
            "       [ 12.1701,  -0.3059],\n",
            "       [ 17.3514,   0.8566],\n",
            "       [ 14.7128,   0.3455],\n",
            "       [ 15.3933,   1.0195],\n",
            "       [ 15.1109,   1.7939],\n",
            "       [ 15.4043,   1.8137],\n",
            "       [ 14.0404,   2.0285],\n",
            "       [ 14.1973,   1.2322],\n",
            "       [ 17.1569,   2.042 ],\n",
            "       [ 17.1582,   0.9188],\n",
            "       [ 15.8395,   1.8564],\n",
            "       [ 16.5629,   1.7976],\n",
            "       [ 16.5972,   0.4655],\n",
            "       [ 16.9064,   3.0372],\n",
            "       [ 15.1472,   2.2743],\n",
            "       [ 16.4455,   2.059 ],\n",
            "       [ 17.3285,   0.8834],\n",
            "       [ 15.1011,  -0.2471],\n",
            "       [ 14.8886,   1.4239],\n",
            "       [ 19.5129,  -0.0128],\n",
            "       [ 16.7089,   1.0475],\n",
            "       [ 17.8769,   0.8613],\n",
            "       [ 17.2894,   1.1615],\n",
            "       [ 15.7136,   2.2997],\n",
            "       [ 11.9474,   1.7589],\n",
            "       [ 13.6939,   1.8341],\n",
            "       [ -6.6263,  -1.3478],\n",
            "       [ 19.7547,  -1.8707],\n",
            "       [ 16.3602,  -1.1086],\n",
            "       [ 15.2759,  -2.418 ],\n",
            "       [ 14.094 ,   0.385 ],\n",
            "       [ 13.999 ,  -2.0116],\n",
            "       [-11.923 ,  -3.3692],\n",
            "       [-13.1681,   0.3806],\n",
            "       [-12.0828,  -6.2921],\n",
            "       [ -9.4556,  -4.5525],\n",
            "       [ 14.8361,  -1.1361],\n",
            "       [ 16.1067,  -0.8351],\n",
            "       [ 15.2699,  -2.4787],\n",
            "       [ 16.3822,  -2.3255],\n",
            "       [-13.2375,   0.9068],\n",
            "       [ -9.5981,  -2.2685],\n",
            "       [-15.0944,  -8.751 ],\n",
            "       [ 19.0318,  -1.0299],\n",
            "       [ 18.4414,  -0.2182],\n",
            "       [-12.1257,  -4.8169],\n",
            "       [-11.7848,  -1.2999],\n",
            "       [-12.5143,   3.3512],\n",
            "       [-11.3663,  -0.4479],\n",
            "       [-11.8666,   3.99  ],\n",
            "       [-11.4226,  -2.0027],\n",
            "       [-11.8736,  -5.0301],\n",
            "       [ 16.2637,  -0.501 ],\n",
            "       [ 16.5174,  -1.3498],\n",
            "       [ 14.1335,  -4.9287],\n",
            "       [ 17.7159,  -1.5797],\n",
            "       [-13.7242,  -6.4173],\n",
            "       [-15.3301,  -3.0685],\n",
            "       [-14.8046,  -3.3854],\n",
            "       [ -9.6073,  -7.7262],\n",
            "       [ -5.9843,  -3.1625],\n",
            "       [ -5.0924,  -7.5895],\n",
            "       [-11.179 ,   3.3632],\n",
            "       [-12.7568,   5.7194],\n",
            "       [-12.5212,   1.3995],\n",
            "       [-13.1895,   5.7297],\n",
            "       [-10.8524,   2.6684],\n",
            "       [-13.3113,   4.1692],\n",
            "       [ -8.8547,  -0.0259],\n",
            "       [-11.5776,   4.5308],\n",
            "       [-12.3004,   3.1295],\n",
            "       [ -4.8829,   3.8866],\n",
            "       [ 18.9682,  -0.9781],\n",
            "       [-15.0649, -12.251 ],\n",
            "       [-10.0471,  -5.4876],\n",
            "       [ -8.4016,  -5.1606],\n",
            "       [ 15.7593,  -0.9218]])\n",
            "(Pdb) [X_fit[i, 0] for i in idxs]\n",
            "*** NameError: name 'X_fit' is not defined\n",
            "(Pdb) n\n",
            "AssertionError: 3 columns passed, passed data had 190 columns\n",
            "> <ipython-input-62-653900a4aa6b>(16)do_plot()\n",
            "-> df = pd.DataFrame([[X_fit[i, 0] for i in idxs], [X_fit[i, 1] for i in idxs], [lab for i in idxs]], columns=['X','Y','label'])\n",
            "(Pdb) n\n",
            "--Return--\n",
            "> <ipython-input-62-653900a4aa6b>(16)do_plot()->None\n",
            "-> df = pd.DataFrame([[X_fit[i, 0] for i in idxs], [X_fit[i, 1] for i in idxs], [lab for i in idxs]], columns=['X','Y','label'])\n",
            "(Pdb) n\n",
            "AssertionError: 3 columns passed, passed data had 190 columns\n",
            "> <ipython-input-63-1ec8ff75b2a4>(4)<module>()\n",
            "-> do_plot(pca.transform(X), 'PCA', labels=labels)\n",
            "--KeyboardInterrupt--\n",
            "(Pdb) quit\n"
          ],
          "name": "stdout"
        },
        {
          "output_type": "error",
          "ename": "BdbQuit",
          "evalue": "ignored",
          "traceback": [
            "\u001b[0;31m---------------------------------------------------------------------------\u001b[0m",
            "\u001b[0;31mBdbQuit\u001b[0m                                   Traceback (most recent call last)",
            "\u001b[0;32m<ipython-input-63-1ec8ff75b2a4>\u001b[0m in \u001b[0;36m<module>\u001b[0;34m()\u001b[0m\n\u001b[1;32m      2\u001b[0m \u001b[0mpca\u001b[0m \u001b[0;34m=\u001b[0m \u001b[0mPCA\u001b[0m\u001b[0;34m(\u001b[0m\u001b[0mn_components\u001b[0m\u001b[0;34m=\u001b[0m\u001b[0;36m2\u001b[0m\u001b[0;34m)\u001b[0m\u001b[0;34m\u001b[0m\u001b[0;34m\u001b[0m\u001b[0m\n\u001b[1;32m      3\u001b[0m \u001b[0mpca\u001b[0m\u001b[0;34m.\u001b[0m\u001b[0mfit\u001b[0m\u001b[0;34m(\u001b[0m\u001b[0mX\u001b[0m\u001b[0;34m)\u001b[0m\u001b[0;34m\u001b[0m\u001b[0;34m\u001b[0m\u001b[0m\n\u001b[0;32m----> 4\u001b[0;31m \u001b[0mdo_plot\u001b[0m\u001b[0;34m(\u001b[0m\u001b[0mpca\u001b[0m\u001b[0;34m.\u001b[0m\u001b[0mtransform\u001b[0m\u001b[0;34m(\u001b[0m\u001b[0mX\u001b[0m\u001b[0;34m)\u001b[0m\u001b[0;34m,\u001b[0m \u001b[0;34m'PCA'\u001b[0m\u001b[0;34m,\u001b[0m \u001b[0mlabels\u001b[0m\u001b[0;34m=\u001b[0m\u001b[0mlabels\u001b[0m\u001b[0;34m)\u001b[0m\u001b[0;34m\u001b[0m\u001b[0;34m\u001b[0m\u001b[0m\n\u001b[0m\u001b[1;32m      5\u001b[0m \u001b[0mX\u001b[0m\u001b[0;34m,\u001b[0m \u001b[0mlabels\u001b[0m\u001b[0;34m,\u001b[0m \u001b[0m_\u001b[0m \u001b[0;34m=\u001b[0m \u001b[0mpick_embeddings\u001b[0m\u001b[0;34m(\u001b[0m\u001b[0mbrown_corpus\u001b[0m\u001b[0;34m,\u001b[0m \u001b[0mbrown_embs\u001b[0m\u001b[0;34m,\u001b[0m \u001b[0;34m[\u001b[0m\u001b[0;34m'man'\u001b[0m\u001b[0;34m,\u001b[0m \u001b[0;34m'woman'\u001b[0m\u001b[0;34m]\u001b[0m\u001b[0;34m)\u001b[0m\u001b[0;34m\u001b[0m\u001b[0;34m\u001b[0m\u001b[0m\n\u001b[1;32m      6\u001b[0m \u001b[0mdo_plot\u001b[0m\u001b[0;34m(\u001b[0m\u001b[0mpca\u001b[0m\u001b[0;34m.\u001b[0m\u001b[0mtransform\u001b[0m\u001b[0;34m(\u001b[0m\u001b[0mX\u001b[0m\u001b[0;34m)\u001b[0m\u001b[0;34m,\u001b[0m \u001b[0;34m'PCA'\u001b[0m\u001b[0;34m,\u001b[0m \u001b[0mlabels\u001b[0m\u001b[0;34m=\u001b[0m\u001b[0mlabels\u001b[0m\u001b[0;34m)\u001b[0m\u001b[0;34m\u001b[0m\u001b[0;34m\u001b[0m\u001b[0m\n",
            "\u001b[0;32m/usr/lib/python3.6/bdb.py\u001b[0m in \u001b[0;36mtrace_dispatch\u001b[0;34m(self, frame, event, arg)\u001b[0m\n\u001b[1;32m     55\u001b[0m             \u001b[0;32mreturn\u001b[0m \u001b[0mself\u001b[0m\u001b[0;34m.\u001b[0m\u001b[0mdispatch_return\u001b[0m\u001b[0;34m(\u001b[0m\u001b[0mframe\u001b[0m\u001b[0;34m,\u001b[0m \u001b[0marg\u001b[0m\u001b[0;34m)\u001b[0m\u001b[0;34m\u001b[0m\u001b[0;34m\u001b[0m\u001b[0m\n\u001b[1;32m     56\u001b[0m         \u001b[0;32mif\u001b[0m \u001b[0mevent\u001b[0m \u001b[0;34m==\u001b[0m \u001b[0;34m'exception'\u001b[0m\u001b[0;34m:\u001b[0m\u001b[0;34m\u001b[0m\u001b[0;34m\u001b[0m\u001b[0m\n\u001b[0;32m---> 57\u001b[0;31m             \u001b[0;32mreturn\u001b[0m \u001b[0mself\u001b[0m\u001b[0;34m.\u001b[0m\u001b[0mdispatch_exception\u001b[0m\u001b[0;34m(\u001b[0m\u001b[0mframe\u001b[0m\u001b[0;34m,\u001b[0m \u001b[0marg\u001b[0m\u001b[0;34m)\u001b[0m\u001b[0;34m\u001b[0m\u001b[0;34m\u001b[0m\u001b[0m\n\u001b[0m\u001b[1;32m     58\u001b[0m         \u001b[0;32mif\u001b[0m \u001b[0mevent\u001b[0m \u001b[0;34m==\u001b[0m \u001b[0;34m'c_call'\u001b[0m\u001b[0;34m:\u001b[0m\u001b[0;34m\u001b[0m\u001b[0;34m\u001b[0m\u001b[0m\n\u001b[1;32m     59\u001b[0m             \u001b[0;32mreturn\u001b[0m \u001b[0mself\u001b[0m\u001b[0;34m.\u001b[0m\u001b[0mtrace_dispatch\u001b[0m\u001b[0;34m\u001b[0m\u001b[0;34m\u001b[0m\u001b[0m\n",
            "\u001b[0;32m/usr/lib/python3.6/bdb.py\u001b[0m in \u001b[0;36mdispatch_exception\u001b[0;34m(self, frame, arg)\u001b[0m\n\u001b[1;32m    111\u001b[0m                     and arg[0] is StopIteration and arg[2] is None):\n\u001b[1;32m    112\u001b[0m                 \u001b[0mself\u001b[0m\u001b[0;34m.\u001b[0m\u001b[0muser_exception\u001b[0m\u001b[0;34m(\u001b[0m\u001b[0mframe\u001b[0m\u001b[0;34m,\u001b[0m \u001b[0marg\u001b[0m\u001b[0;34m)\u001b[0m\u001b[0;34m\u001b[0m\u001b[0;34m\u001b[0m\u001b[0m\n\u001b[0;32m--> 113\u001b[0;31m                 \u001b[0;32mif\u001b[0m \u001b[0mself\u001b[0m\u001b[0;34m.\u001b[0m\u001b[0mquitting\u001b[0m\u001b[0;34m:\u001b[0m \u001b[0;32mraise\u001b[0m \u001b[0mBdbQuit\u001b[0m\u001b[0;34m\u001b[0m\u001b[0;34m\u001b[0m\u001b[0m\n\u001b[0m\u001b[1;32m    114\u001b[0m         \u001b[0;31m# Stop at the StopIteration or GeneratorExit exception when the user\u001b[0m\u001b[0;34m\u001b[0m\u001b[0;34m\u001b[0m\u001b[0;34m\u001b[0m\u001b[0m\n\u001b[1;32m    115\u001b[0m         \u001b[0;31m# has set stopframe in a generator by issuing a return command, or a\u001b[0m\u001b[0;34m\u001b[0m\u001b[0;34m\u001b[0m\u001b[0;34m\u001b[0m\u001b[0m\n",
            "\u001b[0;31mBdbQuit\u001b[0m: "
          ]
        },
        {
          "output_type": "display_data",
          "data": {
            "image/png": "[encoded data removed]",
            "text/plain": [
              "<Figure size 748.8x514.8 with 1 Axes>"
            ]
          },
          "metadata": {
            "tags": []
          }
        }
      ]
    },
    {
      "cell_type": "code",
      "metadata": {
        "colab_type": "code",
        "id": "zkcoBZSlAt0M",
        "outputId": "62a562dd-6c68-4d84-a14e-a3ea1f3459a1",
        "colab": {
          "base_uri": "https://localhost:8080/",
          "height": 585
        }
      },
      "source": [
        "# General word list\n",
        "!wget https://raw.githubusercontent.com/IlyaSemenov/wikipedia-word-frequency/master/results/enwiki-20150602-words-frequency.txt\n",
        "!git clone https://github.com/PrincetonML/SIF\n",
        "    \n",
        "# Gender word lists\n",
        "!git clone https://github.com/uclanlp/gn_glove\n",
        "!git clone https://github.com/uclanlp/corefBias\n",
        "!wget https://www.cs.cmu.edu/Groups/AI/areas/nlp/corpora/names/female.txt\n",
        "!wget https://www.cs.cmu.edu/Groups/AI/areas/nlp/corpora/names/male.txt\n",
        "    \n",
        "# our code for debiasing -- also includes word lists    \n",
        "!git clone https://github.com/jsedoc/ConceptorDebias"
      ],
      "execution_count": 0,
      "outputs": [
        {
          "output_type": "stream",
          "text": [
            "--2019-06-10 22:11:36--  https://raw.githubusercontent.com/IlyaSemenov/wikipedia-word-frequency/master/results/enwiki-20150602-words-frequency.txt\n",
            "Resolving raw.githubusercontent.com (raw.githubusercontent.com)... 151.101.0.133, 151.101.64.133, 151.101.128.133, ...\n",
            "Connecting to raw.githubusercontent.com (raw.githubusercontent.com)|151.101.0.133|:443... connected.\n",
            "HTTP request sent, awaiting response... 404 Not Found\n",
            "2019-06-10 22:11:36 ERROR 404: Not Found.\n",
            "\n",
            "fatal: destination path 'SIF' already exists and is not an empty directory.\n",
            "fatal: destination path 'gn_glove' already exists and is not an empty directory.\n",
            "fatal: destination path 'corefBias' already exists and is not an empty directory.\n",
            "--2019-06-10 22:11:42--  https://www.cs.cmu.edu/Groups/AI/areas/nlp/corpora/names/female.txt\n",
            "Resolving www.cs.cmu.edu (www.cs.cmu.edu)... 128.2.42.95\n",
            "Connecting to www.cs.cmu.edu (www.cs.cmu.edu)|128.2.42.95|:443... connected.\n",
            "HTTP request sent, awaiting response... 200 OK\n",
            "Length: 35751 (35K) [text/plain]\n",
            "Saving to: ‘female.txt.1’\n",
            "\n",
            "female.txt.1        100%[===================>]  34.91K   172KB/s    in 0.2s    \n",
            "\n",
            "2019-06-10 22:11:43 (172 KB/s) - ‘female.txt.1’ saved [35751/35751]\n",
            "\n",
            "--2019-06-10 22:11:44--  https://www.cs.cmu.edu/Groups/AI/areas/nlp/corpora/names/male.txt\n",
            "Resolving www.cs.cmu.edu (www.cs.cmu.edu)... 128.2.42.95\n",
            "Connecting to www.cs.cmu.edu (www.cs.cmu.edu)|128.2.42.95|:443... connected.\n",
            "HTTP request sent, awaiting response... 200 OK\n",
            "Length: 20466 (20K) [text/plain]\n",
            "Saving to: ‘male.txt.1’\n",
            "\n",
            "male.txt.1          100%[===================>]  19.99K  --.-KB/s    in 0s      \n",
            "\n",
            "2019-06-10 22:11:45 (255 MB/s) - ‘male.txt.1’ saved [20466/20466]\n",
            "\n",
            "fatal: destination path 'ConceptorDebias' already exists and is not an empty directory.\n"
          ],
          "name": "stdout"
        }
      ]
    },
    {
      "cell_type": "code",
      "metadata": {
        "colab_type": "code",
        "id": "0CiP73winLx4",
        "colab": {}
      },
      "source": [
        "#from ConceptorDebias.lists.load_word_lists import *\n",
        "#from ConceptorDebias.plot_pc import *\n",
        "from ConceptorDebias.Conceptors.conceptor_fxns import *"
      ],
      "execution_count": 0,
      "outputs": []
    },
    {
      "cell_type": "code",
      "metadata": {
        "colab_type": "code",
        "id": "3tqDFzb3B1zK",
        "colab": {}
      },
      "source": [
        "X, labels, _ = pick_embeddings(brown_corpus, brown_embs, ['husband', 'wife', 'Mary', 'John'])\n",
        "#negC, newX, R = post_process_cn_matrix(embeddings.T)"
      ],
      "execution_count": 0,
      "outputs": []
    },
    {
      "cell_type": "code",
      "metadata": {
        "colab_type": "code",
        "id": "bGISyKZVCHD7",
        "colab": {}
      },
      "source": [
        "from ConceptorDebias.load_word_lists import *\n",
        "\n",
        "gender_list_pronouns = WEATLists.W_7_Male_terms + WEATLists.W_7_Female_terms + WEATLists.W_8_Male_terms + WEATLists.W_8_Female_terms\n",
        "gender_list_pronouns = list(set(gender_list_pronouns))\n",
        "\n",
        "gender_list_extended = male_vino_extra + female_vino_extra + male_gnGlove + female_gnGlove\n",
        "gender_list_extended = list(set(gender_list_extended))\n",
        "\n",
        "gender_list_propernouns = male_cmu + female_cmu\n",
        "gender_list_propernouns = list(set(gender_list_propernouns))\n",
        "\n",
        "gender_list_all = gender_list_pronouns + gender_list_extended + gender_list_propernouns\n",
        "gender_list_all = list(set(gender_list_all))\n",
        "\n",
        "race_list = WEATLists.W_3_Unused_full_list_European_American_names + WEATLists.W_3_European_American_names + WEATLists.W_3_Unused_full_list_African_American_names + WEATLists.W_3_African_American_names + WEATLists.W_4_Unused_full_list_European_American_names + WEATLists.W_4_European_American_names + WEATLists.W_4_Unused_full_list_African_American_names + WEATLists.W_4_African_American_names + WEATLists.W_5_Unused_full_list_European_American_names + WEATLists.W_5_European_American_names + WEATLists.W_5_Unused_full_list_African_American_names + WEATLists.W_5_African_American_names\n",
        "race_list = list(set(race_list))"
      ],
      "execution_count": 0,
      "outputs": []
    },
    {
      "cell_type": "code",
      "metadata": {
        "colab_type": "code",
        "id": "OXkbatJyDP0w",
        "colab": {}
      },
      "source": [
        "AB, AB_labels, _ = pick_embeddings(brown_corpus, brown_embs, ['he', 'she'])\n",
        "XY, XY_labels, _ = pick_embeddings(brown_corpus, brown_embs, ['wedding', 'relatives','executive', 'salary', 'he', 'she'])#WEATLists.W_6_Career + WEATLists.W_6_Family)\n",
        "\n",
        "pca = PCA(n_components=2)\n",
        "pca.fit(AB)\n",
        "do_plot(pca.transform(XY), 'PCA', labels=XY_labels)\n",
        "\n",
        "\n",
        "Z = np.matrix(AB)\n",
        "L = np.matrix(XY)\n",
        "GnegC, GnewX, GR = post_process_cn_matrix(Z.T)\n",
        "\n",
        "pca.fit(GnewX)\n",
        "do_plot(pca.transform((GnegC*L.T).T), 'PCA', labels=XY_labels)\n"
      ],
      "execution_count": 0,
      "outputs": []
    },
    {
      "cell_type": "code",
      "metadata": {
        "id": "X48zGrTcPnYs",
        "colab_type": "code",
        "colab": {}
      },
      "source": [
        "print(WEATLists.W_6_Career)\n",
        "print(WEATLists.W_6_Family)"
      ],
      "execution_count": 0,
      "outputs": []
    },
    {
      "cell_type": "code",
      "metadata": {
        "id": "gyiNA3z8PnYv",
        "colab_type": "code",
        "colab": {}
      },
      "source": [
        "pca = PCA(n_components=2)\n",
        "pca.fit(AB)\n",
        "do_plot(pca.transform(AB), 'PCA', labels=labels)\n",
        "\n",
        "#Z = np.matrix(AB)\n",
        "#GnegC, GnewX, GR = post_process_cn_matrix(Z.T)\n",
        "#pca.fit(GnewX)\n",
        "#do_plot(pca.transform(GnegC*XY), 'PCA', labels=labels)"
      ],
      "execution_count": 0,
      "outputs": []
    }
  ]
}