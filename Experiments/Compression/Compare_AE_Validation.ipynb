{
 "cells": [
  {
   "cell_type": "code",
   "execution_count": 1,
   "metadata": {},
   "outputs": [],
   "source": [
    "import os\n",
    "from tqdm import tqdm as tqdm\n",
    "\n",
    "import torch\n",
    "import torch.nn as nn\n",
    "import torch.nn.functional as F\n",
    "from torch.utils.data import TensorDataset, DataLoader, ConcatDataset"
   ]
  },
  {
   "cell_type": "code",
   "execution_count": 2,
   "metadata": {},
   "outputs": [
    {
     "name": "stdout",
     "output_type": "stream",
     "text": [
      "GeForce GTX TITAN X\n"
     ]
    }
   ],
   "source": [
    "torch.cuda.init()\n",
    "device = torch.device('cuda:1')\n",
    "print(torch.cuda.get_device_name(device))"
   ]
  },
  {
   "cell_type": "code",
   "execution_count": 3,
   "metadata": {},
   "outputs": [],
   "source": [
    "base_path = '/ssd2/chetanp'\n",
    "batch_size = 2 ** 15"
   ]
  },
  {
   "cell_type": "code",
   "execution_count": 4,
   "metadata": {},
   "outputs": [],
   "source": [
    "dataset = []\n",
    "for i in range(2):\n",
    "    path = os.path.join(base_path,'brown_e_base'+str(i+4)+'.pt')\n",
    "    data = torch.load(path)\n",
    "    dataset.append(TensorDataset(data))\n",
    "dataset = ConcatDataset(dataset)\n",
    "data_loader = DataLoader(dataset,batch_size = batch_size,num_workers = 14)"
   ]
  },
  {
   "cell_type": "code",
   "execution_count": 5,
   "metadata": {},
   "outputs": [],
   "source": [
    "criterion = nn.CosineSimilarity()\n",
    "loss_function = lambda x,y: (1-criterion(x,y)).mean()\n",
    "val_losses = []"
   ]
  },
  {
   "cell_type": "code",
   "execution_count": 8,
   "metadata": {},
   "outputs": [
    {
     "name": "stderr",
     "output_type": "stream",
     "text": [
      "100%|██████████| 9/9 [00:12<00:00,  1.02s/it]\n"
     ]
    },
    {
     "name": "stdout",
     "output_type": "stream",
     "text": [
      "Test Set Loss 0:  0.2285224629773034\n"
     ]
    },
    {
     "name": "stderr",
     "output_type": "stream",
     "text": [
      " 33%|███▎      | 3/9 [00:07<00:18,  3.10s/it]\n"
     ]
    },
    {
     "ename": "KeyboardInterrupt",
     "evalue": "",
     "output_type": "error",
     "traceback": [
      "\u001b[0;31m---------------------------------------------------------------------------\u001b[0m",
      "\u001b[0;31mKeyboardInterrupt\u001b[0m                         Traceback (most recent call last)",
      "\u001b[0;32m<ipython-input-8-f596a156710c>\u001b[0m in \u001b[0;36m<module>\u001b[0;34m\u001b[0m\n\u001b[1;32m     37\u001b[0m \u001b[0;34m\u001b[0m\u001b[0m\n\u001b[1;32m     38\u001b[0m         \u001b[0;31m## Update Running Loss\u001b[0m\u001b[0;34m\u001b[0m\u001b[0;34m\u001b[0m\u001b[0m\n\u001b[0;32m---> 39\u001b[0;31m         \u001b[0mrunning_loss\u001b[0m \u001b[0;34m+=\u001b[0m \u001b[0mfloat\u001b[0m\u001b[0;34m(\u001b[0m\u001b[0mloss\u001b[0m\u001b[0;34m)\u001b[0m\u001b[0;34m\u001b[0m\u001b[0m\n\u001b[0m\u001b[1;32m     40\u001b[0m         \u001b[0mcount\u001b[0m \u001b[0;34m+=\u001b[0m \u001b[0;36m1\u001b[0m\u001b[0;34m\u001b[0m\u001b[0m\n\u001b[1;32m     41\u001b[0m \u001b[0;34m\u001b[0m\u001b[0m\n",
      "\u001b[0;31mKeyboardInterrupt\u001b[0m: "
     ]
    }
   ],
   "source": [
    "for i in range (7):\n",
    "    \n",
    "    class AutoEncoder(nn.Module):\n",
    "\n",
    "        def __init__(self):\n",
    "            super(AutoEncoder, self).__init__() \n",
    "\n",
    "            #encode\n",
    "            self.e1 = nn.Linear(9216,2048)\n",
    "            self.e2 = nn.Linear(2048,2 ** (5 + i))\n",
    "\n",
    "            #decode\n",
    "            self.d1 = nn.Linear(2 ** (5 + i),2048)\n",
    "            self.d2 = nn.Linear(2048,9216)\n",
    "\n",
    "        def forward(self, x):\n",
    "            encode = self.e2(F.relu(self.e1(x)))\n",
    "\n",
    "            return self.d2(F.relu(self.d1(encode)))\n",
    "        \n",
    "    model = nn.DataParallel(AutoEncoder(),device_ids =[1,2]).to(device)\n",
    "    path = os.path.join(base_path,f'brown_e_base_compressor_{i}.pth')\n",
    "    model.load_state_dict(torch.load(path))\n",
    "    model.eval()\n",
    "    \n",
    "    running_loss = 0\n",
    "    count = 0\n",
    "\n",
    "    for data in tqdm(data_loader):\n",
    "        ## Get Data\n",
    "        sample = data[0].to(device)\n",
    "\n",
    "        ## Pass forward\n",
    "        output = model(sample)\n",
    "        loss = loss_function(output,sample)\n",
    "\n",
    "        ## Update Running Loss\n",
    "        running_loss += float(loss)\n",
    "        count += 1\n",
    "\n",
    "    print(f'Test Set Loss {i}: ', str(running_loss/count))\n",
    "    val_losses.append(running_loss/count)"
   ]
  },
  {
   "cell_type": "code",
   "execution_count": 7,
   "metadata": {},
   "outputs": [],
   "source": [
    "import csv\n",
    "\n",
    "path = os.path.join(base_path, 'val_loss.csv')\n",
    "\n",
    "with open(path, 'w') as myfile:\n",
    "    wr = csv.writer(myfile)\n",
    "    wr.writerow(val_losses)"
   ]
  },
  {
   "cell_type": "code",
   "execution_count": null,
   "metadata": {},
   "outputs": [],
   "source": []
  }
 ],
 "metadata": {
  "kernelspec": {
   "display_name": "Python 3",
   "language": "python",
   "name": "python3"
  },
  "language_info": {
   "codemirror_mode": {
    "name": "ipython",
    "version": 3
   },
   "file_extension": ".py",
   "mimetype": "text/x-python",
   "name": "python",
   "nbconvert_exporter": "python",
   "pygments_lexer": "ipython3",
   "version": "3.6.4"
  }
 },
 "nbformat": 4,
 "nbformat_minor": 4
}
